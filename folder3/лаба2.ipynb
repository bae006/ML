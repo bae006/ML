{
 "cells": [
  {
   "cell_type": "code",
   "execution_count": 1,
   "id": "874810e5",
   "metadata": {},
   "outputs": [],
   "source": [
    "import pandas as pd\n",
    "import numpy as np\n",
    "from sklearn.preprocessing import StandardScaler\n",
    "from sklearn.model_selection import train_test_split, GridSearchCV\n",
    "from sklearn.tree import DecisionTreeClassifier, plot_tree\n",
    "import matplotlib.pyplot as plt\n",
    "from sklearn import metrics \n",
    "from sklearn.svm import SVC\n",
    "import time  "
   ]
  },
  {
   "cell_type": "code",
   "execution_count": 2,
   "id": "5c9de999",
   "metadata": {},
   "outputs": [
    {
     "data": {
      "text/html": [
       "<div>\n",
       "<style scoped>\n",
       "    .dataframe tbody tr th:only-of-type {\n",
       "        vertical-align: middle;\n",
       "    }\n",
       "\n",
       "    .dataframe tbody tr th {\n",
       "        vertical-align: top;\n",
       "    }\n",
       "\n",
       "    .dataframe thead th {\n",
       "        text-align: right;\n",
       "    }\n",
       "</style>\n",
       "<table border=\"1\" class=\"dataframe\">\n",
       "  <thead>\n",
       "    <tr style=\"text-align: right;\">\n",
       "      <th></th>\n",
       "      <th>FixedAcidity</th>\n",
       "      <th>VolatileAcidity</th>\n",
       "      <th>CitricAcid</th>\n",
       "      <th>ResidualSugar</th>\n",
       "      <th>Chlorides</th>\n",
       "      <th>FreeSulfurDioxide</th>\n",
       "      <th>TotalSulfurDioxide</th>\n",
       "      <th>Density</th>\n",
       "      <th>PH</th>\n",
       "      <th>Sulphates</th>\n",
       "      <th>Alcohol</th>\n",
       "      <th>Quality</th>\n",
       "    </tr>\n",
       "  </thead>\n",
       "  <tbody>\n",
       "    <tr>\n",
       "      <th>0</th>\n",
       "      <td>7.0</td>\n",
       "      <td>0.27</td>\n",
       "      <td>0.36</td>\n",
       "      <td>20.7</td>\n",
       "      <td>0.045</td>\n",
       "      <td>45.0</td>\n",
       "      <td>170.0</td>\n",
       "      <td>1.00100</td>\n",
       "      <td>3.00</td>\n",
       "      <td>0.45</td>\n",
       "      <td>8.8</td>\n",
       "      <td>6</td>\n",
       "    </tr>\n",
       "    <tr>\n",
       "      <th>1</th>\n",
       "      <td>6.3</td>\n",
       "      <td>0.30</td>\n",
       "      <td>0.34</td>\n",
       "      <td>1.6</td>\n",
       "      <td>0.049</td>\n",
       "      <td>14.0</td>\n",
       "      <td>132.0</td>\n",
       "      <td>0.99400</td>\n",
       "      <td>3.30</td>\n",
       "      <td>0.49</td>\n",
       "      <td>9.5</td>\n",
       "      <td>6</td>\n",
       "    </tr>\n",
       "    <tr>\n",
       "      <th>2</th>\n",
       "      <td>8.1</td>\n",
       "      <td>0.28</td>\n",
       "      <td>0.40</td>\n",
       "      <td>6.9</td>\n",
       "      <td>0.050</td>\n",
       "      <td>30.0</td>\n",
       "      <td>97.0</td>\n",
       "      <td>0.99510</td>\n",
       "      <td>3.26</td>\n",
       "      <td>0.44</td>\n",
       "      <td>10.1</td>\n",
       "      <td>6</td>\n",
       "    </tr>\n",
       "    <tr>\n",
       "      <th>3</th>\n",
       "      <td>7.2</td>\n",
       "      <td>0.23</td>\n",
       "      <td>0.32</td>\n",
       "      <td>8.5</td>\n",
       "      <td>0.058</td>\n",
       "      <td>47.0</td>\n",
       "      <td>186.0</td>\n",
       "      <td>0.99560</td>\n",
       "      <td>3.19</td>\n",
       "      <td>0.40</td>\n",
       "      <td>9.9</td>\n",
       "      <td>6</td>\n",
       "    </tr>\n",
       "    <tr>\n",
       "      <th>4</th>\n",
       "      <td>7.2</td>\n",
       "      <td>0.23</td>\n",
       "      <td>0.32</td>\n",
       "      <td>8.5</td>\n",
       "      <td>0.058</td>\n",
       "      <td>47.0</td>\n",
       "      <td>186.0</td>\n",
       "      <td>0.99560</td>\n",
       "      <td>3.19</td>\n",
       "      <td>0.40</td>\n",
       "      <td>9.9</td>\n",
       "      <td>6</td>\n",
       "    </tr>\n",
       "    <tr>\n",
       "      <th>...</th>\n",
       "      <td>...</td>\n",
       "      <td>...</td>\n",
       "      <td>...</td>\n",
       "      <td>...</td>\n",
       "      <td>...</td>\n",
       "      <td>...</td>\n",
       "      <td>...</td>\n",
       "      <td>...</td>\n",
       "      <td>...</td>\n",
       "      <td>...</td>\n",
       "      <td>...</td>\n",
       "      <td>...</td>\n",
       "    </tr>\n",
       "    <tr>\n",
       "      <th>4893</th>\n",
       "      <td>6.2</td>\n",
       "      <td>0.21</td>\n",
       "      <td>0.29</td>\n",
       "      <td>1.6</td>\n",
       "      <td>0.039</td>\n",
       "      <td>24.0</td>\n",
       "      <td>92.0</td>\n",
       "      <td>0.99114</td>\n",
       "      <td>3.27</td>\n",
       "      <td>0.50</td>\n",
       "      <td>11.2</td>\n",
       "      <td>6</td>\n",
       "    </tr>\n",
       "    <tr>\n",
       "      <th>4894</th>\n",
       "      <td>6.6</td>\n",
       "      <td>0.32</td>\n",
       "      <td>0.36</td>\n",
       "      <td>8.0</td>\n",
       "      <td>0.047</td>\n",
       "      <td>57.0</td>\n",
       "      <td>168.0</td>\n",
       "      <td>0.99490</td>\n",
       "      <td>3.15</td>\n",
       "      <td>0.46</td>\n",
       "      <td>9.6</td>\n",
       "      <td>5</td>\n",
       "    </tr>\n",
       "    <tr>\n",
       "      <th>4895</th>\n",
       "      <td>6.5</td>\n",
       "      <td>0.24</td>\n",
       "      <td>0.19</td>\n",
       "      <td>1.2</td>\n",
       "      <td>0.041</td>\n",
       "      <td>30.0</td>\n",
       "      <td>111.0</td>\n",
       "      <td>0.99254</td>\n",
       "      <td>2.99</td>\n",
       "      <td>0.46</td>\n",
       "      <td>9.4</td>\n",
       "      <td>6</td>\n",
       "    </tr>\n",
       "    <tr>\n",
       "      <th>4896</th>\n",
       "      <td>5.5</td>\n",
       "      <td>0.29</td>\n",
       "      <td>0.30</td>\n",
       "      <td>1.1</td>\n",
       "      <td>0.022</td>\n",
       "      <td>20.0</td>\n",
       "      <td>110.0</td>\n",
       "      <td>0.98869</td>\n",
       "      <td>3.34</td>\n",
       "      <td>0.38</td>\n",
       "      <td>12.8</td>\n",
       "      <td>7</td>\n",
       "    </tr>\n",
       "    <tr>\n",
       "      <th>4897</th>\n",
       "      <td>6.0</td>\n",
       "      <td>0.21</td>\n",
       "      <td>0.38</td>\n",
       "      <td>0.8</td>\n",
       "      <td>0.020</td>\n",
       "      <td>22.0</td>\n",
       "      <td>98.0</td>\n",
       "      <td>0.98941</td>\n",
       "      <td>3.26</td>\n",
       "      <td>0.32</td>\n",
       "      <td>11.8</td>\n",
       "      <td>6</td>\n",
       "    </tr>\n",
       "  </tbody>\n",
       "</table>\n",
       "<p>4898 rows × 12 columns</p>\n",
       "</div>"
      ],
      "text/plain": [
       "      FixedAcidity  VolatileAcidity  CitricAcid  ResidualSugar  Chlorides  \\\n",
       "0              7.0             0.27        0.36           20.7      0.045   \n",
       "1              6.3             0.30        0.34            1.6      0.049   \n",
       "2              8.1             0.28        0.40            6.9      0.050   \n",
       "3              7.2             0.23        0.32            8.5      0.058   \n",
       "4              7.2             0.23        0.32            8.5      0.058   \n",
       "...            ...              ...         ...            ...        ...   \n",
       "4893           6.2             0.21        0.29            1.6      0.039   \n",
       "4894           6.6             0.32        0.36            8.0      0.047   \n",
       "4895           6.5             0.24        0.19            1.2      0.041   \n",
       "4896           5.5             0.29        0.30            1.1      0.022   \n",
       "4897           6.0             0.21        0.38            0.8      0.020   \n",
       "\n",
       "      FreeSulfurDioxide  TotalSulfurDioxide  Density    PH  Sulphates  \\\n",
       "0                  45.0               170.0  1.00100  3.00       0.45   \n",
       "1                  14.0               132.0  0.99400  3.30       0.49   \n",
       "2                  30.0                97.0  0.99510  3.26       0.44   \n",
       "3                  47.0               186.0  0.99560  3.19       0.40   \n",
       "4                  47.0               186.0  0.99560  3.19       0.40   \n",
       "...                 ...                 ...      ...   ...        ...   \n",
       "4893               24.0                92.0  0.99114  3.27       0.50   \n",
       "4894               57.0               168.0  0.99490  3.15       0.46   \n",
       "4895               30.0               111.0  0.99254  2.99       0.46   \n",
       "4896               20.0               110.0  0.98869  3.34       0.38   \n",
       "4897               22.0                98.0  0.98941  3.26       0.32   \n",
       "\n",
       "      Alcohol  Quality  \n",
       "0         8.8        6  \n",
       "1         9.5        6  \n",
       "2        10.1        6  \n",
       "3         9.9        6  \n",
       "4         9.9        6  \n",
       "...       ...      ...  \n",
       "4893     11.2        6  \n",
       "4894      9.6        5  \n",
       "4895      9.4        6  \n",
       "4896     12.8        7  \n",
       "4897     11.8        6  \n",
       "\n",
       "[4898 rows x 12 columns]"
      ]
     },
     "execution_count": 2,
     "metadata": {},
     "output_type": "execute_result"
    }
   ],
   "source": [
    "column_names = [\n",
    "    \"FixedAcidity\", \"VolatileAcidity\", \"CitricAcid\", \"ResidualSugar\", \"Chlorides\",\n",
    "    \"FreeSulfurDioxide\", \"TotalSulfurDioxide\", \"Density\", \"PH\", \"Sulphates\", \"Alcohol\", \"Quality\"\n",
    "]\n",
    "\n",
    "df_wine = pd.read_csv(\n",
    "    \"winequality-white.dat\",\n",
    "    comment='@',\n",
    "    header=None,  \n",
    "    names=column_names,  \n",
    "    skip_blank_lines=True  \n",
    ")\n",
    "\n",
    "df_wine"
   ]
  },
  {
   "cell_type": "code",
   "execution_count": 3,
   "id": "ad2ed429",
   "metadata": {},
   "outputs": [],
   "source": [
    "X = df_wine.drop(columns=\"Quality\")\n",
    "y = df_wine.Quality"
   ]
  },
  {
   "cell_type": "markdown",
   "id": "4819c9a6",
   "metadata": {},
   "source": [
    "Выполним стандартизацию X"
   ]
  },
  {
   "cell_type": "code",
   "execution_count": 4,
   "id": "213a2fb2",
   "metadata": {},
   "outputs": [
    {
     "data": {
      "text/html": [
       "<div>\n",
       "<style scoped>\n",
       "    .dataframe tbody tr th:only-of-type {\n",
       "        vertical-align: middle;\n",
       "    }\n",
       "\n",
       "    .dataframe tbody tr th {\n",
       "        vertical-align: top;\n",
       "    }\n",
       "\n",
       "    .dataframe thead th {\n",
       "        text-align: right;\n",
       "    }\n",
       "</style>\n",
       "<table border=\"1\" class=\"dataframe\">\n",
       "  <thead>\n",
       "    <tr style=\"text-align: right;\">\n",
       "      <th></th>\n",
       "      <th>FixedAcidity</th>\n",
       "      <th>VolatileAcidity</th>\n",
       "      <th>CitricAcid</th>\n",
       "      <th>ResidualSugar</th>\n",
       "      <th>Chlorides</th>\n",
       "      <th>FreeSulfurDioxide</th>\n",
       "      <th>TotalSulfurDioxide</th>\n",
       "      <th>Density</th>\n",
       "      <th>PH</th>\n",
       "      <th>Sulphates</th>\n",
       "      <th>Alcohol</th>\n",
       "    </tr>\n",
       "  </thead>\n",
       "  <tbody>\n",
       "    <tr>\n",
       "      <th>0</th>\n",
       "      <td>0.172097</td>\n",
       "      <td>-0.081770</td>\n",
       "      <td>0.213280</td>\n",
       "      <td>2.821349</td>\n",
       "      <td>-0.035355</td>\n",
       "      <td>0.569932</td>\n",
       "      <td>0.744565</td>\n",
       "      <td>2.331512</td>\n",
       "      <td>-1.246921</td>\n",
       "      <td>-0.349184</td>\n",
       "      <td>-1.393152</td>\n",
       "    </tr>\n",
       "    <tr>\n",
       "      <th>1</th>\n",
       "      <td>-0.657501</td>\n",
       "      <td>0.215896</td>\n",
       "      <td>0.048001</td>\n",
       "      <td>-0.944765</td>\n",
       "      <td>0.147747</td>\n",
       "      <td>-1.253019</td>\n",
       "      <td>-0.149685</td>\n",
       "      <td>-0.009154</td>\n",
       "      <td>0.740029</td>\n",
       "      <td>0.001342</td>\n",
       "      <td>-0.824276</td>\n",
       "    </tr>\n",
       "    <tr>\n",
       "      <th>2</th>\n",
       "      <td>1.475751</td>\n",
       "      <td>0.017452</td>\n",
       "      <td>0.543838</td>\n",
       "      <td>0.100282</td>\n",
       "      <td>0.193523</td>\n",
       "      <td>-0.312141</td>\n",
       "      <td>-0.973336</td>\n",
       "      <td>0.358665</td>\n",
       "      <td>0.475102</td>\n",
       "      <td>-0.436816</td>\n",
       "      <td>-0.336667</td>\n",
       "    </tr>\n",
       "    <tr>\n",
       "      <th>3</th>\n",
       "      <td>0.409125</td>\n",
       "      <td>-0.478657</td>\n",
       "      <td>-0.117278</td>\n",
       "      <td>0.415768</td>\n",
       "      <td>0.559727</td>\n",
       "      <td>0.687541</td>\n",
       "      <td>1.121091</td>\n",
       "      <td>0.525855</td>\n",
       "      <td>0.011480</td>\n",
       "      <td>-0.787342</td>\n",
       "      <td>-0.499203</td>\n",
       "    </tr>\n",
       "    <tr>\n",
       "      <th>4</th>\n",
       "      <td>0.409125</td>\n",
       "      <td>-0.478657</td>\n",
       "      <td>-0.117278</td>\n",
       "      <td>0.415768</td>\n",
       "      <td>0.559727</td>\n",
       "      <td>0.687541</td>\n",
       "      <td>1.121091</td>\n",
       "      <td>0.525855</td>\n",
       "      <td>0.011480</td>\n",
       "      <td>-0.787342</td>\n",
       "      <td>-0.499203</td>\n",
       "    </tr>\n",
       "    <tr>\n",
       "      <th>...</th>\n",
       "      <td>...</td>\n",
       "      <td>...</td>\n",
       "      <td>...</td>\n",
       "      <td>...</td>\n",
       "      <td>...</td>\n",
       "      <td>...</td>\n",
       "      <td>...</td>\n",
       "      <td>...</td>\n",
       "      <td>...</td>\n",
       "      <td>...</td>\n",
       "      <td>...</td>\n",
       "    </tr>\n",
       "    <tr>\n",
       "      <th>4893</th>\n",
       "      <td>-0.776015</td>\n",
       "      <td>-0.677101</td>\n",
       "      <td>-0.365197</td>\n",
       "      <td>-0.944765</td>\n",
       "      <td>-0.310008</td>\n",
       "      <td>-0.664970</td>\n",
       "      <td>-1.091000</td>\n",
       "      <td>-0.965483</td>\n",
       "      <td>0.541334</td>\n",
       "      <td>0.088973</td>\n",
       "      <td>0.557282</td>\n",
       "    </tr>\n",
       "    <tr>\n",
       "      <th>4894</th>\n",
       "      <td>-0.301959</td>\n",
       "      <td>0.414339</td>\n",
       "      <td>0.213280</td>\n",
       "      <td>0.317179</td>\n",
       "      <td>0.056196</td>\n",
       "      <td>1.275590</td>\n",
       "      <td>0.697499</td>\n",
       "      <td>0.291789</td>\n",
       "      <td>-0.253446</td>\n",
       "      <td>-0.261553</td>\n",
       "      <td>-0.743008</td>\n",
       "    </tr>\n",
       "    <tr>\n",
       "      <th>4895</th>\n",
       "      <td>-0.420473</td>\n",
       "      <td>-0.379435</td>\n",
       "      <td>-1.191592</td>\n",
       "      <td>-1.023637</td>\n",
       "      <td>-0.218457</td>\n",
       "      <td>-0.312141</td>\n",
       "      <td>-0.643875</td>\n",
       "      <td>-0.497350</td>\n",
       "      <td>-1.313153</td>\n",
       "      <td>-0.261553</td>\n",
       "      <td>-0.905544</td>\n",
       "    </tr>\n",
       "    <tr>\n",
       "      <th>4896</th>\n",
       "      <td>-1.605613</td>\n",
       "      <td>0.116674</td>\n",
       "      <td>-0.282557</td>\n",
       "      <td>-1.043355</td>\n",
       "      <td>-1.088192</td>\n",
       "      <td>-0.900190</td>\n",
       "      <td>-0.667408</td>\n",
       "      <td>-1.784717</td>\n",
       "      <td>1.004955</td>\n",
       "      <td>-0.962605</td>\n",
       "      <td>1.857572</td>\n",
       "    </tr>\n",
       "    <tr>\n",
       "      <th>4897</th>\n",
       "      <td>-1.013043</td>\n",
       "      <td>-0.677101</td>\n",
       "      <td>0.378559</td>\n",
       "      <td>-1.102508</td>\n",
       "      <td>-1.179743</td>\n",
       "      <td>-0.782580</td>\n",
       "      <td>-0.949803</td>\n",
       "      <td>-1.543962</td>\n",
       "      <td>0.475102</td>\n",
       "      <td>-1.488394</td>\n",
       "      <td>1.044891</td>\n",
       "    </tr>\n",
       "  </tbody>\n",
       "</table>\n",
       "<p>4898 rows × 11 columns</p>\n",
       "</div>"
      ],
      "text/plain": [
       "      FixedAcidity  VolatileAcidity  CitricAcid  ResidualSugar  Chlorides  \\\n",
       "0         0.172097        -0.081770    0.213280       2.821349  -0.035355   \n",
       "1        -0.657501         0.215896    0.048001      -0.944765   0.147747   \n",
       "2         1.475751         0.017452    0.543838       0.100282   0.193523   \n",
       "3         0.409125        -0.478657   -0.117278       0.415768   0.559727   \n",
       "4         0.409125        -0.478657   -0.117278       0.415768   0.559727   \n",
       "...            ...              ...         ...            ...        ...   \n",
       "4893     -0.776015        -0.677101   -0.365197      -0.944765  -0.310008   \n",
       "4894     -0.301959         0.414339    0.213280       0.317179   0.056196   \n",
       "4895     -0.420473        -0.379435   -1.191592      -1.023637  -0.218457   \n",
       "4896     -1.605613         0.116674   -0.282557      -1.043355  -1.088192   \n",
       "4897     -1.013043        -0.677101    0.378559      -1.102508  -1.179743   \n",
       "\n",
       "      FreeSulfurDioxide  TotalSulfurDioxide   Density        PH  Sulphates  \\\n",
       "0              0.569932            0.744565  2.331512 -1.246921  -0.349184   \n",
       "1             -1.253019           -0.149685 -0.009154  0.740029   0.001342   \n",
       "2             -0.312141           -0.973336  0.358665  0.475102  -0.436816   \n",
       "3              0.687541            1.121091  0.525855  0.011480  -0.787342   \n",
       "4              0.687541            1.121091  0.525855  0.011480  -0.787342   \n",
       "...                 ...                 ...       ...       ...        ...   \n",
       "4893          -0.664970           -1.091000 -0.965483  0.541334   0.088973   \n",
       "4894           1.275590            0.697499  0.291789 -0.253446  -0.261553   \n",
       "4895          -0.312141           -0.643875 -0.497350 -1.313153  -0.261553   \n",
       "4896          -0.900190           -0.667408 -1.784717  1.004955  -0.962605   \n",
       "4897          -0.782580           -0.949803 -1.543962  0.475102  -1.488394   \n",
       "\n",
       "       Alcohol  \n",
       "0    -1.393152  \n",
       "1    -0.824276  \n",
       "2    -0.336667  \n",
       "3    -0.499203  \n",
       "4    -0.499203  \n",
       "...        ...  \n",
       "4893  0.557282  \n",
       "4894 -0.743008  \n",
       "4895 -0.905544  \n",
       "4896  1.857572  \n",
       "4897  1.044891  \n",
       "\n",
       "[4898 rows x 11 columns]"
      ]
     },
     "execution_count": 4,
     "metadata": {},
     "output_type": "execute_result"
    }
   ],
   "source": [
    "scaler = StandardScaler()\n",
    "\n",
    "X_std = scaler.fit_transform(X)\n",
    "X_std = pd.DataFrame(X_std, columns=X.columns)\n",
    "X_std"
   ]
  },
  {
   "cell_type": "code",
   "execution_count": 5,
   "id": "777abfe2",
   "metadata": {},
   "outputs": [],
   "source": [
    "X_train, X_tmp, y_train, y_tmp = train_test_split(X_std, y, test_size=0.5,stratify=y, random_state=42)\n",
    "X_val, X_test, y_val, y_test = train_test_split(X_tmp, y_tmp, test_size=0.6, stratify=y_tmp, random_state=42)"
   ]
  },
  {
   "cell_type": "markdown",
   "id": "6a2f943b",
   "metadata": {},
   "source": [
    "Построим дерево решений"
   ]
  },
  {
   "cell_type": "code",
   "execution_count": 6,
   "id": "438c9db5",
   "metadata": {},
   "outputs": [
    {
     "data": {
      "text/html": [
       "<div>\n",
       "<style scoped>\n",
       "    .dataframe tbody tr th:only-of-type {\n",
       "        vertical-align: middle;\n",
       "    }\n",
       "\n",
       "    .dataframe tbody tr th {\n",
       "        vertical-align: top;\n",
       "    }\n",
       "\n",
       "    .dataframe thead th {\n",
       "        text-align: right;\n",
       "    }\n",
       "</style>\n",
       "<table border=\"1\" class=\"dataframe\">\n",
       "  <thead>\n",
       "    <tr style=\"text-align: right;\">\n",
       "      <th></th>\n",
       "      <th>criterion</th>\n",
       "      <th>alpha</th>\n",
       "      <th>score_val</th>\n",
       "    </tr>\n",
       "  </thead>\n",
       "  <tbody>\n",
       "    <tr>\n",
       "      <th>Accuracy</th>\n",
       "      <td>gini</td>\n",
       "      <td>0.005</td>\n",
       "      <td>0.533197</td>\n",
       "    </tr>\n",
       "    <tr>\n",
       "      <th>Precision</th>\n",
       "      <td>gini</td>\n",
       "      <td>0.005</td>\n",
       "      <td>0.501587</td>\n",
       "    </tr>\n",
       "    <tr>\n",
       "      <th>Recall</th>\n",
       "      <td>gini</td>\n",
       "      <td>0.005</td>\n",
       "      <td>0.533197</td>\n",
       "    </tr>\n",
       "    <tr>\n",
       "      <th>ROC-AUC</th>\n",
       "      <td>entropy</td>\n",
       "      <td>0.015</td>\n",
       "      <td>0.700470</td>\n",
       "    </tr>\n",
       "  </tbody>\n",
       "</table>\n",
       "</div>"
      ],
      "text/plain": [
       "          criterion  alpha  score_val\n",
       "Accuracy       gini  0.005   0.533197\n",
       "Precision      gini  0.005   0.501587\n",
       "Recall         gini  0.005   0.533197\n",
       "ROC-AUC     entropy  0.015   0.700470"
      ]
     },
     "execution_count": 6,
     "metadata": {},
     "output_type": "execute_result"
    }
   ],
   "source": [
    "criterions = [\"entropy\", \"gini\"]\n",
    "alphies = [0.005, 0.01, 0.015, 0.02, 0.025, 0.03, 0.035, 0.2, 0.8]\n",
    "\n",
    "\n",
    "max_accuracy = 0\n",
    "max_precision = 0\n",
    "max_recall = 0\n",
    "max_auc = 0\n",
    "\n",
    "param_accuracy = {\"criterion\" : None, \"alpha\" : None }\n",
    "param_precision = {\"criterion\" : None, \"alpha\" : None }\n",
    "param_recall = {\"criterion\" : None, \"alpha\" : None }\n",
    "param_auc = {\"criterion\" : None, \"alpha\" : None }\n",
    "\n",
    "\n",
    "for criterion in criterions:\n",
    "\n",
    "    for alpha in alphies:\n",
    "        \n",
    "        clf = DecisionTreeClassifier(criterion=criterion, ccp_alpha=alpha) \n",
    "        clf.fit(X_train, y_train)\n",
    "        \n",
    "        y_pred = clf.predict(X_val)\n",
    "        \n",
    "        current_accuracy = metrics.accuracy_score(y_val, y_pred)\n",
    "        if current_accuracy > max_accuracy:\n",
    "            max_accuracy = current_accuracy\n",
    "            param_accuracy[\"criterion\"] = criterion\n",
    "            param_accuracy[\"alpha\"] = alpha\n",
    "        \n",
    "        current_precision = metrics.precision_score(y_val, y_pred, average=\"weighted\", zero_division=0)\n",
    "        if current_precision > max_precision:\n",
    "            max_precision = current_precision\n",
    "            param_precision[\"criterion\"] = criterion\n",
    "            param_precision[\"alpha\"] = alpha\n",
    "            \n",
    "        current_recall = metrics.recall_score(y_val, y_pred, average=\"weighted\")\n",
    "        if current_recall > max_recall:\n",
    "            max_recall = current_recall\n",
    "            param_recall[\"criterion\"] = criterion\n",
    "            param_recall[\"alpha\"] = alpha\n",
    "            \n",
    "        current_auc = metrics.roc_auc_score(y_val, clf.predict_proba(X_val), average=\"macro\", multi_class=\"ovr\")\n",
    "        if current_auc > max_auc:\n",
    "            max_auc = current_auc\n",
    "            param_auc[\"criterion\"] = criterion\n",
    "            param_auc[\"alpha\"] = alpha\n",
    "            \n",
    "df_scores = pd.DataFrame([param_accuracy, param_precision, param_recall, param_auc], \\\n",
    "                         index=[\"Accuracy\", \"Precision\", \"Recall\", \"ROC-AUC\"])\n",
    "\n",
    "df_scores[\"score_val\"] = [max_accuracy, max_precision, max_recall, max_auc]\n",
    "df_scores"
   ]
  },
  {
   "cell_type": "markdown",
   "id": "da427e16",
   "metadata": {},
   "source": [
    "Т.о. согласно метрикам Accuracy, Precision, Recall оптимальные параметры модели: criterion = entropy, alpha = 0.005"
   ]
  },
  {
   "cell_type": "markdown",
   "id": "f92381d0",
   "metadata": {},
   "source": [
    "А согласно метрике ROC-AUC оптимальные параметры модели: criterion = gini, alpha = 0.800"
   ]
  },
  {
   "cell_type": "markdown",
   "id": "be8e7c62",
   "metadata": {},
   "source": [
    "Обучим SVM "
   ]
  },
  {
   "cell_type": "code",
   "execution_count": 7,
   "id": "3f28319f",
   "metadata": {},
   "outputs": [
    {
     "name": "stdout",
     "output_type": "stream",
     "text": [
      "Время обучения:  7911.348870277405\n"
     ]
    }
   ],
   "source": [
    "krls = [\"linear\", \"poly\", \"rbf\", \"sigmoid\"]\n",
    "gammas = [\"scale\", \"auto\"]\n",
    "coef0s = [0, 1, 2, 5]\n",
    "degrees = [2, 3, 4, 5]\n",
    "Cs = [ 0.1, 1, 10, 20]\n",
    "\n",
    "\n",
    "svm_max_accuracy = 0\n",
    "svm_max_precision = 0\n",
    "svm_max_recall = 0\n",
    "svm_max_auc = 0\n",
    "\n",
    "svm_param_accuracy = {\"krl\" : None, \"gamma\" : None, \"coef0\" : None, \"degree\" : None, \"C\" : None}\n",
    "svm_param_precision = {\"krl\" : None, \"gamma\" : None, \"coef0\" : None, \"degree\" : None, \"C\" : None}\n",
    "svm_param_recall = {\"krl\" : None, \"gamma\" : None, \"coef0\" : None, \"degree\" : None, \"C\" : None}\n",
    "svm_param_auc = {\"krl\" : None, \"gamma\" : None, \"coef0\" : None, \"degree\" : None, \"C\" : None}\n",
    "\n",
    "\n",
    "start_time = time.time()\n",
    "for krl in krls:\n",
    "    \n",
    "    for gamma in gammas:\n",
    "        \n",
    "        for coef0 in coef0s:\n",
    "            \n",
    "            for degree in degrees:\n",
    "                \n",
    "                for C in Cs:\n",
    "                    \n",
    "                    svm = SVC(kernel=krl, gamma=gamma, coef0=coef0, degree=degree, C=C, probability=True)\n",
    "                    svm.fit(X_train, y_train)\n",
    "        \n",
    "                    y_pred = svm.predict(X_val)\n",
    "        \n",
    "                    svm_current_accuracy = metrics.accuracy_score(y_val, y_pred)\n",
    "                    if svm_current_accuracy > svm_max_accuracy:\n",
    "                        svm_max_accuracy = svm_current_accuracy\n",
    "                        svm_param_accuracy[\"krl\"] = krl\n",
    "                        svm_param_accuracy[\"gamma\"] = gamma\n",
    "                        svm_param_accuracy[\"coef0\"] = coef0\n",
    "                        svm_param_accuracy[\"degree\"] = degree\n",
    "                        svm_param_accuracy[\"C\"] = C\n",
    "        \n",
    "                    svm_current_precision = metrics.precision_score(y_val, y_pred, average=\"weighted\", zero_division=0)\n",
    "                    if svm_current_precision > svm_max_precision:\n",
    "                        svm_max_precision = svm_current_precision\n",
    "                        svm_param_precision[\"krl\"] = krl\n",
    "                        svm_param_precision[\"gamma\"] = gamma\n",
    "                        svm_param_precision[\"coef0\"] = coef0\n",
    "                        svm_param_precision[\"degree\"] = degree\n",
    "                        svm_param_precision[\"C\"] = C\n",
    "        \n",
    "            \n",
    "                    svm_current_recall = metrics.recall_score(y_val, y_pred, average=\"weighted\")\n",
    "                    if svm_current_recall > svm_max_recall:\n",
    "                        svm_max_recall = svm_current_recall\n",
    "                        svm_param_recall[\"krl\"] = krl\n",
    "                        svm_param_recall[\"gamma\"] = gamma\n",
    "                        svm_param_recall[\"coef0\"] = coef0\n",
    "                        svm_param_recall[\"degree\"] = degree\n",
    "                        svm_param_recall[\"C\"] = C\n",
    "        \n",
    "            \n",
    "                    svm_current_auc = metrics.roc_auc_score(y_val, svm.predict_proba(X_val), average=\"macro\", multi_class=\"ovr\")\n",
    "                    if svm_current_auc > svm_max_auc:\n",
    "                        svm_max_auc = svm_current_auc\n",
    "                        svm_param_auc[\"krl\"] = krl\n",
    "                        svm_param_auc[\"gamma\"] = gamma\n",
    "                        svm_param_auc[\"coef0\"] = coef0\n",
    "                        svm_param_auc[\"degree\"] = degree\n",
    "                        svm_param_auc[\"C\"] = C\n",
    "        \n",
    "\n",
    "end_time = time.time()\n",
    "\n",
    "\n",
    "df_scores = pd.DataFrame([svm_param_accuracy, svm_param_precision, svm_param_recall, svm_param_auc], \\\n",
    "                         index=[\"Accuracy\", \"Precision\", \"Recall\", \"ROC-AUC\"])\n",
    "                    \n",
    "print(\"Время обучения: \", end_time - start_time)\n",
    "\n",
    "df_scores[\"value\"] = [svm_max_accuracy, svm_max_precision, svm_max_recall, svm_max_auc]\n"
   ]
  },
  {
   "cell_type": "code",
   "execution_count": 8,
   "id": "d91f481c",
   "metadata": {},
   "outputs": [
    {
     "data": {
      "text/html": [
       "<div>\n",
       "<style scoped>\n",
       "    .dataframe tbody tr th:only-of-type {\n",
       "        vertical-align: middle;\n",
       "    }\n",
       "\n",
       "    .dataframe tbody tr th {\n",
       "        vertical-align: top;\n",
       "    }\n",
       "\n",
       "    .dataframe thead th {\n",
       "        text-align: right;\n",
       "    }\n",
       "</style>\n",
       "<table border=\"1\" class=\"dataframe\">\n",
       "  <thead>\n",
       "    <tr style=\"text-align: right;\">\n",
       "      <th></th>\n",
       "      <th>krl</th>\n",
       "      <th>gamma</th>\n",
       "      <th>coef0</th>\n",
       "      <th>degree</th>\n",
       "      <th>C</th>\n",
       "      <th>value</th>\n",
       "    </tr>\n",
       "  </thead>\n",
       "  <tbody>\n",
       "    <tr>\n",
       "      <th>Accuracy</th>\n",
       "      <td>rbf</td>\n",
       "      <td>scale</td>\n",
       "      <td>0</td>\n",
       "      <td>2</td>\n",
       "      <td>1.0</td>\n",
       "      <td>0.556691</td>\n",
       "    </tr>\n",
       "    <tr>\n",
       "      <th>Precision</th>\n",
       "      <td>poly</td>\n",
       "      <td>scale</td>\n",
       "      <td>0</td>\n",
       "      <td>3</td>\n",
       "      <td>0.1</td>\n",
       "      <td>0.567818</td>\n",
       "    </tr>\n",
       "    <tr>\n",
       "      <th>Recall</th>\n",
       "      <td>rbf</td>\n",
       "      <td>scale</td>\n",
       "      <td>0</td>\n",
       "      <td>2</td>\n",
       "      <td>1.0</td>\n",
       "      <td>0.556691</td>\n",
       "    </tr>\n",
       "    <tr>\n",
       "      <th>ROC-AUC</th>\n",
       "      <td>poly</td>\n",
       "      <td>scale</td>\n",
       "      <td>5</td>\n",
       "      <td>2</td>\n",
       "      <td>1.0</td>\n",
       "      <td>0.842884</td>\n",
       "    </tr>\n",
       "  </tbody>\n",
       "</table>\n",
       "</div>"
      ],
      "text/plain": [
       "            krl  gamma  coef0  degree    C     value\n",
       "Accuracy    rbf  scale      0       2  1.0  0.556691\n",
       "Precision  poly  scale      0       3  0.1  0.567818\n",
       "Recall      rbf  scale      0       2  1.0  0.556691\n",
       "ROC-AUC    poly  scale      5       2  1.0  0.842884"
      ]
     },
     "execution_count": 8,
     "metadata": {},
     "output_type": "execute_result"
    }
   ],
   "source": [
    "df_scores"
   ]
  },
  {
   "cell_type": "markdown",
   "id": "e78b95e0",
   "metadata": {},
   "source": [
    "Проверим на тестовой выборке 4 модели: "
   ]
  },
  {
   "cell_type": "markdown",
   "id": "51492e3d",
   "metadata": {},
   "source": [
    "1) дерево решений с параметрами criterion = entropy, alpha = 0.005 "
   ]
  },
  {
   "cell_type": "markdown",
   "id": "2cc148cd",
   "metadata": {},
   "source": [
    "2. дерево решений с параметрами criterion = gini, alpha = 0.8"
   ]
  },
  {
   "cell_type": "markdown",
   "id": "3e828324",
   "metadata": {},
   "source": [
    "3. SVM c параметрами: krl = poly, gamma = scale, coef0 = 1, degree = 4, C = 0.1"
   ]
  },
  {
   "cell_type": "markdown",
   "id": "562c6893",
   "metadata": {},
   "source": [
    "4. SVM c параметрами: krl = sigmoid, gamma = auto, coef0 = 5, degree = 5, C = 20"
   ]
  },
  {
   "cell_type": "code",
   "execution_count": 9,
   "id": "81d81159",
   "metadata": {},
   "outputs": [],
   "source": [
    "model_1 = DecisionTreeClassifier(criterion=\"entropy\", ccp_alpha=0.005)\n",
    "model_1.fit(X_train, y_train)\n",
    "y_pred_1 = model_1.predict(X_test)\n",
    "\n",
    "model_2 = DecisionTreeClassifier(criterion=\"gini\", ccp_alpha=0.8)\n",
    "model_2.fit(X_train, y_train)\n",
    "y_pred_2 = model_2.predict(X_test)\n",
    "\n",
    "model_3 = SVC(kernel=\"poly\", gamma=\"scale\", coef0=1, degree=4, C=0.1, probability=True, )\n",
    "model_3.fit(X_train, y_train)\n",
    "y_pred_3 = model_3.predict(X_test)\n",
    "\n",
    "model_4 = SVC(kernel=\"sigmoid\", gamma=\"auto\", coef0=5, degree=5, C=20, probability=True)\n",
    "model_4.fit(X_train, y_train)\n",
    "y_pred_4 = model_4.predict(X_test)"
   ]
  },
  {
   "cell_type": "code",
   "execution_count": 10,
   "id": "088d4baf",
   "metadata": {},
   "outputs": [
    {
     "name": "stderr",
     "output_type": "stream",
     "text": [
      "C:\\Users\\nev1L\\anaconda3\\lib\\site-packages\\sklearn\\metrics\\_classification.py:1344: UndefinedMetricWarning: Precision is ill-defined and being set to 0.0 in labels with no predicted samples. Use `zero_division` parameter to control this behavior.\n",
      "  _warn_prf(average, modifier, msg_start, len(result))\n"
     ]
    },
    {
     "data": {
      "text/plain": [
       "{'Accuracy': 0.5414965986394558,\n",
       " 'Precision': 0.5177236540853712,\n",
       " 'Recall': 0.5414965986394558,\n",
       " 'ROC-AUC': 0.6735254734654114}"
      ]
     },
     "execution_count": 10,
     "metadata": {},
     "output_type": "execute_result"
    }
   ],
   "source": [
    "model_1_scores = {\"Accuracy\" : metrics.accuracy_score(y_test, y_pred_1), \\\n",
    "                  \"Precision\" : metrics.precision_score(y_test, y_pred_1, average=\"weighted\"),\\\n",
    "                  \"Recall\" : metrics.recall_score(y_test, y_pred_1, average=\"weighted\"), \\\n",
    "                  \"ROC-AUC\" : metrics.roc_auc_score(y_test, model_1.predict_proba(X_test), multi_class=\"ovr\") }\n",
    "model_1_scores"
   ]
  },
  {
   "cell_type": "code",
   "execution_count": 11,
   "id": "6cb27109",
   "metadata": {},
   "outputs": [
    {
     "name": "stderr",
     "output_type": "stream",
     "text": [
      "C:\\Users\\nev1L\\anaconda3\\lib\\site-packages\\sklearn\\metrics\\_classification.py:1344: UndefinedMetricWarning: Precision is ill-defined and being set to 0.0 in labels with no predicted samples. Use `zero_division` parameter to control this behavior.\n",
      "  _warn_prf(average, modifier, msg_start, len(result))\n"
     ]
    },
    {
     "data": {
      "text/plain": [
       "{'Accuracy': 0.4489795918367347,\n",
       " 'Precision': 0.20158267388588086,\n",
       " 'Recall': 0.4489795918367347,\n",
       " 'ROC-AUC': 0.5}"
      ]
     },
     "execution_count": 11,
     "metadata": {},
     "output_type": "execute_result"
    }
   ],
   "source": [
    "model_2_scores = {\"Accuracy\" : metrics.accuracy_score(y_test, y_pred_2), \\\n",
    "                  \"Precision\" : metrics.precision_score(y_test, y_pred_2, average=\"weighted\"),\\\n",
    "                  \"Recall\" : metrics.recall_score(y_test, y_pred_2, average=\"weighted\"), \\\n",
    "                  \"ROC-AUC\" : metrics.roc_auc_score(y_test, model_2.predict_proba(X_test), multi_class=\"ovr\") }\n",
    "model_2_scores"
   ]
  },
  {
   "cell_type": "code",
   "execution_count": 12,
   "id": "08b0408c",
   "metadata": {},
   "outputs": [
    {
     "name": "stderr",
     "output_type": "stream",
     "text": [
      "C:\\Users\\nev1L\\anaconda3\\lib\\site-packages\\sklearn\\metrics\\_classification.py:1344: UndefinedMetricWarning: Precision is ill-defined and being set to 0.0 in labels with no predicted samples. Use `zero_division` parameter to control this behavior.\n",
      "  _warn_prf(average, modifier, msg_start, len(result))\n"
     ]
    },
    {
     "data": {
      "text/plain": [
       "{'Accuracy': 0.564625850340136,\n",
       " 'Precision': 0.5581065781773015,\n",
       " 'Recall': 0.564625850340136,\n",
       " 'ROC-AUC': 0.7153422935162943}"
      ]
     },
     "execution_count": 12,
     "metadata": {},
     "output_type": "execute_result"
    }
   ],
   "source": [
    "model_3_scores = {\"Accuracy\" : metrics.accuracy_score(y_test, y_pred_3), \\\n",
    "                  \"Precision\" : metrics.precision_score(y_test, y_pred_3, average=\"weighted\"),\\\n",
    "                  \"Recall\" : metrics.recall_score(y_test, y_pred_3, average=\"weighted\"), \\\n",
    "                  \"ROC-AUC\" : metrics.roc_auc_score(y_test, model_3.predict_proba(X_test), multi_class=\"ovr\") }\n",
    "model_3_scores"
   ]
  },
  {
   "cell_type": "code",
   "execution_count": 13,
   "id": "63f73d56",
   "metadata": {},
   "outputs": [
    {
     "name": "stderr",
     "output_type": "stream",
     "text": [
      "C:\\Users\\nev1L\\anaconda3\\lib\\site-packages\\sklearn\\metrics\\_classification.py:1344: UndefinedMetricWarning: Precision is ill-defined and being set to 0.0 in labels with no predicted samples. Use `zero_division` parameter to control this behavior.\n",
      "  _warn_prf(average, modifier, msg_start, len(result))\n"
     ]
    },
    {
     "data": {
      "text/plain": [
       "{'Accuracy': 0.44761904761904764,\n",
       " 'Precision': 0.34985336563001734,\n",
       " 'Recall': 0.44761904761904764,\n",
       " 'ROC-AUC': 0.5700192086989458}"
      ]
     },
     "execution_count": 13,
     "metadata": {},
     "output_type": "execute_result"
    }
   ],
   "source": [
    "model_4_scores = {\"Accuracy\" : metrics.accuracy_score(y_test, y_pred_4), \\\n",
    "                  \"Precision\" : metrics.precision_score(y_test, y_pred_4, average=\"weighted\"),\\\n",
    "                  \"Recall\" : metrics.recall_score(y_test, y_pred_4, average=\"weighted\"), \\\n",
    "                  \"ROC-AUC\" : metrics.roc_auc_score(y_test, model_4.predict_proba(X_test), multi_class=\"ovr\") }\n",
    "model_4_scores"
   ]
  },
  {
   "cell_type": "markdown",
   "id": "8ac2e725",
   "metadata": {},
   "source": [
    "Т.к. каждая модель не может предсказать один из классов, посмотрим какой каждая из моделей класс она не может предсказать: "
   ]
  },
  {
   "cell_type": "code",
   "execution_count": 14,
   "id": "8cfd59e1",
   "metadata": {},
   "outputs": [
    {
     "data": {
      "text/plain": [
       "array([6, 5, 7, 8, 4, 3, 9], dtype=int64)"
      ]
     },
     "execution_count": 14,
     "metadata": {},
     "output_type": "execute_result"
    }
   ],
   "source": [
    "y.unique()"
   ]
  },
  {
   "cell_type": "code",
   "execution_count": 15,
   "id": "83191261",
   "metadata": {},
   "outputs": [
    {
     "data": {
      "text/plain": [
       "array([8, 7, 6, 4, 5, 3, 9], dtype=int64)"
      ]
     },
     "execution_count": 15,
     "metadata": {},
     "output_type": "execute_result"
    }
   ],
   "source": [
    "y_test.unique()"
   ]
  },
  {
   "cell_type": "markdown",
   "id": "437c2abc",
   "metadata": {},
   "source": [
    "Всего у нас 7 классов "
   ]
  },
  {
   "cell_type": "code",
   "execution_count": 16,
   "id": "ef6a28a3",
   "metadata": {},
   "outputs": [
    {
     "data": {
      "text/plain": [
       "array([4, 5, 6, 7, 8], dtype=int64)"
      ]
     },
     "execution_count": 16,
     "metadata": {},
     "output_type": "execute_result"
    }
   ],
   "source": [
    "np.unique(y_pred_1)"
   ]
  },
  {
   "cell_type": "code",
   "execution_count": 17,
   "id": "4d5820ae",
   "metadata": {},
   "outputs": [
    {
     "data": {
      "text/plain": [
       "array([6], dtype=int64)"
      ]
     },
     "execution_count": 17,
     "metadata": {},
     "output_type": "execute_result"
    }
   ],
   "source": [
    "np.unique(y_pred_2)"
   ]
  },
  {
   "cell_type": "code",
   "execution_count": 18,
   "id": "c54f3bb5",
   "metadata": {},
   "outputs": [
    {
     "data": {
      "text/plain": [
       "array([3, 4, 5, 6, 7, 8], dtype=int64)"
      ]
     },
     "execution_count": 18,
     "metadata": {},
     "output_type": "execute_result"
    }
   ],
   "source": [
    "np.unique(y_pred_3)"
   ]
  },
  {
   "cell_type": "code",
   "execution_count": 19,
   "id": "e53f4506",
   "metadata": {},
   "outputs": [
    {
     "data": {
      "text/plain": [
       "array([5, 6, 7, 8], dtype=int64)"
      ]
     },
     "execution_count": 19,
     "metadata": {},
     "output_type": "execute_result"
    }
   ],
   "source": [
    "np.unique(y_pred_4)"
   ]
  },
  {
   "cell_type": "markdown",
   "id": "d5998657",
   "metadata": {},
   "source": [
    "Т.о. 1ая модель не может предсказать 2 класса: 9 и 3; 2ая модель предсказывает только оди класс; 3ья модель не предсказвает только 9ый класc; 4ая модель предсказвает только 3 класса"
   ]
  },
  {
   "cell_type": "markdown",
   "id": "73a67e7f",
   "metadata": {},
   "source": [
    "Лучшая модель - 3ья (SVM c параметрами: krl = poly, gamma = scale, coef0 = 1, degree = 4, C = 0.1) "
   ]
  },
  {
   "cell_type": "code",
   "execution_count": 20,
   "id": "1294b15c",
   "metadata": {},
   "outputs": [
    {
     "data": {
      "text/plain": [
       "6    2198\n",
       "5    1457\n",
       "7     880\n",
       "8     175\n",
       "4     163\n",
       "3      20\n",
       "9       5\n",
       "Name: Quality, dtype: int64"
      ]
     },
     "execution_count": 20,
     "metadata": {},
     "output_type": "execute_result"
    }
   ],
   "source": [
    "y.value_counts()"
   ]
  },
  {
   "cell_type": "markdown",
   "id": "969d8abb",
   "metadata": {},
   "source": [
    "Модель не предсказывает 9ый класс, т.к. в нем слишком мало объектов  "
   ]
  },
  {
   "cell_type": "markdown",
   "id": "96e8ec4c",
   "metadata": {},
   "source": [
    "   "
   ]
  },
  {
   "cell_type": "markdown",
   "id": "e2784e71",
   "metadata": {},
   "source": [
    "     "
   ]
  },
  {
   "cell_type": "markdown",
   "id": "23c18def",
   "metadata": {},
   "source": [
    "Воспользуемся насыщением данных увеличим количество объектов в 3 и 9 классах рандомным дублированием наблюдений"
   ]
  },
  {
   "cell_type": "code",
   "execution_count": 21,
   "id": "8f3ff47d",
   "metadata": {},
   "outputs": [
    {
     "data": {
      "text/plain": [
       "6    1099\n",
       "5     728\n",
       "7     440\n",
       "8      88\n",
       "4      82\n",
       "3      10\n",
       "9       2\n",
       "Name: Quality, dtype: int64"
      ]
     },
     "execution_count": 21,
     "metadata": {},
     "output_type": "execute_result"
    }
   ],
   "source": [
    "y_train.value_counts()"
   ]
  },
  {
   "cell_type": "code",
   "execution_count": 22,
   "id": "12296450",
   "metadata": {},
   "outputs": [],
   "source": [
    "from imblearn.over_sampling import RandomOverSampler\n",
    "\n",
    "\n",
    "ros = RandomOverSampler(sampling_strategy={3 : 70, 9:70}, random_state=42)\n",
    "\n",
    "X_train_over, y_train_over = ros.fit_resample(X_train, y_train)"
   ]
  },
  {
   "cell_type": "code",
   "execution_count": 23,
   "id": "72da760a",
   "metadata": {},
   "outputs": [
    {
     "data": {
      "text/plain": [
       "6    1099\n",
       "5     728\n",
       "7     440\n",
       "8      88\n",
       "4      82\n",
       "3      70\n",
       "9      70\n",
       "Name: Quality, dtype: int64"
      ]
     },
     "execution_count": 23,
     "metadata": {},
     "output_type": "execute_result"
    }
   ],
   "source": [
    "y_train_over.value_counts()"
   ]
  },
  {
   "cell_type": "code",
   "execution_count": 24,
   "id": "0e55ca66",
   "metadata": {},
   "outputs": [
    {
     "data": {
      "text/html": [
       "<div>\n",
       "<style scoped>\n",
       "    .dataframe tbody tr th:only-of-type {\n",
       "        vertical-align: middle;\n",
       "    }\n",
       "\n",
       "    .dataframe tbody tr th {\n",
       "        vertical-align: top;\n",
       "    }\n",
       "\n",
       "    .dataframe thead th {\n",
       "        text-align: right;\n",
       "    }\n",
       "</style>\n",
       "<table border=\"1\" class=\"dataframe\">\n",
       "  <thead>\n",
       "    <tr style=\"text-align: right;\">\n",
       "      <th></th>\n",
       "      <th>criterion</th>\n",
       "      <th>alpha</th>\n",
       "      <th>score_val</th>\n",
       "    </tr>\n",
       "  </thead>\n",
       "  <tbody>\n",
       "    <tr>\n",
       "      <th>Accuracy</th>\n",
       "      <td>entropy</td>\n",
       "      <td>0.030</td>\n",
       "      <td>0.536261</td>\n",
       "    </tr>\n",
       "    <tr>\n",
       "      <th>Precision</th>\n",
       "      <td>entropy</td>\n",
       "      <td>0.005</td>\n",
       "      <td>0.512605</td>\n",
       "    </tr>\n",
       "    <tr>\n",
       "      <th>Recall</th>\n",
       "      <td>entropy</td>\n",
       "      <td>0.030</td>\n",
       "      <td>0.536261</td>\n",
       "    </tr>\n",
       "    <tr>\n",
       "      <th>ROC-AUC</th>\n",
       "      <td>gini</td>\n",
       "      <td>0.800</td>\n",
       "      <td>0.448417</td>\n",
       "    </tr>\n",
       "  </tbody>\n",
       "</table>\n",
       "</div>"
      ],
      "text/plain": [
       "          criterion  alpha  score_val\n",
       "Accuracy    entropy  0.030   0.536261\n",
       "Precision   entropy  0.005   0.512605\n",
       "Recall      entropy  0.030   0.536261\n",
       "ROC-AUC        gini  0.800   0.448417"
      ]
     },
     "execution_count": 24,
     "metadata": {},
     "output_type": "execute_result"
    }
   ],
   "source": [
    "X_train = X_train_over\n",
    "y_train = y_train_over\n",
    "\n",
    "criterions = [\"entropy\", \"gini\"]\n",
    "alphies = [0.005, 0.01, 0.015, 0.02, 0.025, 0.03, 0.035, 0.2, 0.8]\n",
    "\n",
    "\n",
    "max_accuracy = 0\n",
    "max_precision = 0\n",
    "max_recall = 0\n",
    "max_auc = 0\n",
    "\n",
    "param_accuracy = {\"criterion\" : None, \"alpha\" : None }\n",
    "param_precision = {\"criterion\" : None, \"alpha\" : None }\n",
    "param_recall = {\"criterion\" : None, \"alpha\" : None }\n",
    "param_auc = {\"criterion\" : None, \"alpha\" : None }\n",
    "\n",
    "\n",
    "for criterion in criterions:\n",
    "\n",
    "    for alpha in alphies:\n",
    "        \n",
    "        clf = DecisionTreeClassifier(criterion=criterion, ccp_alpha=alpha) \n",
    "        clf.fit(X_train, y_train)\n",
    "        \n",
    "        y_pred = clf.predict(X_val)\n",
    "        \n",
    "        current_accuracy = metrics.accuracy_score(y_val, y_pred)\n",
    "        if current_accuracy > max_accuracy:\n",
    "            max_accuracy = current_accuracy\n",
    "            param_accuracy[\"criterion\"] = criterion\n",
    "            param_accuracy[\"alpha\"] = alpha\n",
    "        \n",
    "        current_precision = metrics.precision_score(y_val, y_pred, average=\"weighted\", zero_division=0)\n",
    "        if current_precision > max_precision:\n",
    "            max_precision = current_precision\n",
    "            param_precision[\"criterion\"] = criterion\n",
    "            param_precision[\"alpha\"] = alpha\n",
    "            \n",
    "        current_recall = metrics.recall_score(y_val, y_pred, average=\"weighted\")\n",
    "        if current_recall > max_recall:\n",
    "            max_recall = current_recall\n",
    "            param_recall[\"criterion\"] = criterion\n",
    "            param_recall[\"alpha\"] = alpha\n",
    "            \n",
    "        current_auc = metrics.roc_auc_score(y_val, clf.predict_proba(X_val), average=\"macro\", multi_class=\"ovr\")\n",
    "        if current_auc > max_auc:\n",
    "            max_auc = current_recall\n",
    "            param_auc[\"criterion\"] = criterion\n",
    "            param_auc[\"alpha\"] = alpha\n",
    "            \n",
    "df_scores = pd.DataFrame([param_accuracy, param_precision, param_recall, param_auc], \\\n",
    "                         index=[\"Accuracy\", \"Precision\", \"Recall\", \"ROC-AUC\"])\n",
    "\n",
    "df_scores[\"score_val\"] = [max_accuracy, max_precision, max_recall, max_auc]\n",
    "df_scores"
   ]
  },
  {
   "cell_type": "code",
   "execution_count": 25,
   "id": "01e003ec",
   "metadata": {},
   "outputs": [
    {
     "name": "stdout",
     "output_type": "stream",
     "text": [
      "Время обучения:  7331.938737630844\n"
     ]
    },
    {
     "data": {
      "text/html": [
       "<div>\n",
       "<style scoped>\n",
       "    .dataframe tbody tr th:only-of-type {\n",
       "        vertical-align: middle;\n",
       "    }\n",
       "\n",
       "    .dataframe tbody tr th {\n",
       "        vertical-align: top;\n",
       "    }\n",
       "\n",
       "    .dataframe thead th {\n",
       "        text-align: right;\n",
       "    }\n",
       "</style>\n",
       "<table border=\"1\" class=\"dataframe\">\n",
       "  <thead>\n",
       "    <tr style=\"text-align: right;\">\n",
       "      <th></th>\n",
       "      <th>krl</th>\n",
       "      <th>gamma</th>\n",
       "      <th>coef0</th>\n",
       "      <th>degree</th>\n",
       "      <th>C</th>\n",
       "      <th>value</th>\n",
       "    </tr>\n",
       "  </thead>\n",
       "  <tbody>\n",
       "    <tr>\n",
       "      <th>Accuracy</th>\n",
       "      <td>poly</td>\n",
       "      <td>scale</td>\n",
       "      <td>1</td>\n",
       "      <td>5</td>\n",
       "      <td>10.0</td>\n",
       "      <td>0.556691</td>\n",
       "    </tr>\n",
       "    <tr>\n",
       "      <th>Precision</th>\n",
       "      <td>poly</td>\n",
       "      <td>auto</td>\n",
       "      <td>0</td>\n",
       "      <td>3</td>\n",
       "      <td>0.1</td>\n",
       "      <td>0.565564</td>\n",
       "    </tr>\n",
       "    <tr>\n",
       "      <th>Recall</th>\n",
       "      <td>poly</td>\n",
       "      <td>scale</td>\n",
       "      <td>1</td>\n",
       "      <td>5</td>\n",
       "      <td>10.0</td>\n",
       "      <td>0.556691</td>\n",
       "    </tr>\n",
       "    <tr>\n",
       "      <th>ROC-AUC</th>\n",
       "      <td>rbf</td>\n",
       "      <td>scale</td>\n",
       "      <td>0</td>\n",
       "      <td>2</td>\n",
       "      <td>1.0</td>\n",
       "      <td>0.838435</td>\n",
       "    </tr>\n",
       "  </tbody>\n",
       "</table>\n",
       "</div>"
      ],
      "text/plain": [
       "            krl  gamma  coef0  degree     C     value\n",
       "Accuracy   poly  scale      1       5  10.0  0.556691\n",
       "Precision  poly   auto      0       3   0.1  0.565564\n",
       "Recall     poly  scale      1       5  10.0  0.556691\n",
       "ROC-AUC     rbf  scale      0       2   1.0  0.838435"
      ]
     },
     "execution_count": 25,
     "metadata": {},
     "output_type": "execute_result"
    }
   ],
   "source": [
    "X_train = X_train_over\n",
    "y_train = y_train_over\n",
    "\n",
    "\n",
    "krls = [\"linear\", \"poly\", \"rbf\", \"sigmoid\"]\n",
    "gammas = [\"scale\", \"auto\"]\n",
    "coef0s = [0, 1, 2, 5]\n",
    "degrees = [2, 3, 4, 5]\n",
    "Cs = [ 0.1, 1, 10, 20]\n",
    "\n",
    "\n",
    "svm_max_accuracy = 0\n",
    "svm_max_precision = 0\n",
    "svm_max_recall = 0\n",
    "svm_max_auc = 0\n",
    "\n",
    "svm_param_accuracy = {\"krl\" : None, \"gamma\" : None, \"coef0\" : None, \"degree\" : None, \"C\" : None}\n",
    "svm_param_precision = {\"krl\" : None, \"gamma\" : None, \"coef0\" : None, \"degree\" : None, \"C\" : None}\n",
    "svm_param_recall = {\"krl\" : None, \"gamma\" : None, \"coef0\" : None, \"degree\" : None, \"C\" : None}\n",
    "svm_param_auc = {\"krl\" : None, \"gamma\" : None, \"coef0\" : None, \"degree\" : None, \"C\" : None}\n",
    "\n",
    "\n",
    "start_time = time.time()\n",
    "for krl in krls:\n",
    "    \n",
    "    for gamma in gammas:\n",
    "        \n",
    "        for coef0 in coef0s:\n",
    "            \n",
    "            for degree in degrees:\n",
    "                \n",
    "                for C in Cs:\n",
    "                    \n",
    "                    svm = SVC(kernel=krl, gamma=gamma, coef0=coef0, degree=degree, C=C, probability=True)\n",
    "                    svm.fit(X_train, y_train)\n",
    "        \n",
    "                    y_pred = svm.predict(X_val)\n",
    "        \n",
    "                    svm_current_accuracy = metrics.accuracy_score(y_val, y_pred)\n",
    "                    if svm_current_accuracy > svm_max_accuracy:\n",
    "                        svm_max_accuracy = svm_current_accuracy\n",
    "                        svm_param_accuracy[\"krl\"] = krl\n",
    "                        svm_param_accuracy[\"gamma\"] = gamma\n",
    "                        svm_param_accuracy[\"coef0\"] = coef0\n",
    "                        svm_param_accuracy[\"degree\"] = degree\n",
    "                        svm_param_accuracy[\"C\"] = C\n",
    "        \n",
    "                    svm_current_precision = metrics.precision_score(y_val, y_pred, average=\"weighted\", zero_division=0)\n",
    "                    if svm_current_precision > svm_max_precision:\n",
    "                        svm_max_precision = svm_current_precision\n",
    "                        svm_param_precision[\"krl\"] = krl\n",
    "                        svm_param_precision[\"gamma\"] = gamma\n",
    "                        svm_param_precision[\"coef0\"] = coef0\n",
    "                        svm_param_precision[\"degree\"] = degree\n",
    "                        svm_param_precision[\"C\"] = C\n",
    "        \n",
    "            \n",
    "                    svm_current_recall = metrics.recall_score(y_val, y_pred, average=\"weighted\")\n",
    "                    if svm_current_recall > svm_max_recall:\n",
    "                        svm_max_recall = svm_current_recall\n",
    "                        svm_param_recall[\"krl\"] = krl\n",
    "                        svm_param_recall[\"gamma\"] = gamma\n",
    "                        svm_param_recall[\"coef0\"] = coef0\n",
    "                        svm_param_recall[\"degree\"] = degree\n",
    "                        svm_param_recall[\"C\"] = C\n",
    "        \n",
    "            \n",
    "                    svm_current_auc = metrics.roc_auc_score(y_val, svm.predict_proba(X_val), average=\"macro\", multi_class=\"ovr\")\n",
    "                    if svm_current_auc > svm_max_auc:\n",
    "                        svm_max_auc = svm_current_auc\n",
    "                        svm_param_auc[\"krl\"] = krl\n",
    "                        svm_param_auc[\"gamma\"] = gamma\n",
    "                        svm_param_auc[\"coef0\"] = coef0\n",
    "                        svm_param_auc[\"degree\"] = degree\n",
    "                        svm_param_auc[\"C\"] = C\n",
    "        \n",
    "\n",
    "end_time = time.time()\n",
    "\n",
    "\n",
    "df_scores = pd.DataFrame([svm_param_accuracy, svm_param_precision, svm_param_recall, svm_param_auc], \\\n",
    "                         index=[\"Accuracy\", \"Precision\", \"Recall\", \"ROC-AUC\"])\n",
    "                    \n",
    "print(\"Время обучения: \", end_time - start_time)\n",
    "\n",
    "\n",
    "df_scores[\"value\"] = [svm_max_accuracy, svm_max_precision, svm_max_recall, svm_max_auc]\n",
    "\n",
    "df_scores"
   ]
  },
  {
   "cell_type": "code",
   "execution_count": null,
   "id": "1f08beed",
   "metadata": {},
   "outputs": [],
   "source": []
  }
 ],
 "metadata": {
  "kernelspec": {
   "display_name": "Python 3 (ipykernel)",
   "language": "python",
   "name": "python3"
  },
  "language_info": {
   "codemirror_mode": {
    "name": "ipython",
    "version": 3
   },
   "file_extension": ".py",
   "mimetype": "text/x-python",
   "name": "python",
   "nbconvert_exporter": "python",
   "pygments_lexer": "ipython3",
   "version": "3.10.9"
  }
 },
 "nbformat": 4,
 "nbformat_minor": 5
}
